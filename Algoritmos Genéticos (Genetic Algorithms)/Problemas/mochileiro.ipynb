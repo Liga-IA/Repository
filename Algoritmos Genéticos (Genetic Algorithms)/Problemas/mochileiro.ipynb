{
  "nbformat": 4,
  "nbformat_minor": 0,
  "metadata": {
    "colab": {
      "provenance": []
    },
    "kernelspec": {
      "name": "python3",
      "display_name": "Python 3"
    },
    "language_info": {
      "name": "python"
    }
  },
  "cells": [
    {
      "cell_type": "markdown",
      "source": [
        "### Bibliotecas necessárias "
      ],
      "metadata": {
        "id": "TRf5miwDexoE"
      }
    },
    {
      "cell_type": "code",
      "source": [
        "!pip install deap\n",
        "!pip install matplotlib"
      ],
      "metadata": {
        "id": "gwU3RIa52HCt"
      },
      "execution_count": null,
      "outputs": []
    },
    {
      "cell_type": "markdown",
      "source": [
        "Importação das bibliotecas para o codigo"
      ],
      "metadata": {
        "id": "mJj3XLTBfXGV"
      }
    },
    {
      "cell_type": "code",
      "source": [
        "import random\n",
        "from deap import base, creator, tools, algorithms  # Adicionei 'algorithms' aqui"
      ],
      "metadata": {
        "id": "ycnMna18fYKd"
      },
      "execution_count": 2,
      "outputs": []
    },
    {
      "cell_type": "markdown",
      "source": [
        "Aqui, são definidos os pesos e valores de cada item disponível para ser colocado na mochila, assim como a capacidade máxima da mochila."
      ],
      "metadata": {
        "id": "-skZ85YMf2fl"
      }
    },
    {
      "cell_type": "code",
      "source": [
        "# Definir os parâmetros do problema\n",
        "pesos = [23, 31, 29, 44, 53, 38, 63, 85, 89, 82]\n",
        "valores = [92, 57, 49, 68, 60, 43, 67, 84, 87, 72]\n",
        "capacidade_mochila = 165\n"
      ],
      "metadata": {
        "id": "0IYmAmA4fgY_"
      },
      "execution_count": 3,
      "outputs": []
    },
    {
      "cell_type": "markdown",
      "source": [
        " São criados os tipos de dados necessários para representar um indivíduo da população e a função de aptidão (fitness) que avaliará quão bom é um indivíduo."
      ],
      "metadata": {
        "id": "eiibZFaef4He"
      }
    },
    {
      "cell_type": "code",
      "source": [
        "# Definir a estrutura do indivíduo e da aptidão\n",
        "creator.create(\"Fitness\", base.Fitness, weights=(1.0,))\n",
        "creator.create(\"Individual\", list, fitness=creator.Fitness)\n",
        "\n",
        "\n",
        "toolbox = base.Toolbox()"
      ],
      "metadata": {
        "id": "nGZ7Sahef4mD"
      },
      "execution_count": 4,
      "outputs": []
    },
    {
      "cell_type": "markdown",
      "source": [
        " Essa função gera um indivíduo aleatório, representado por uma lista de bits (0 ou 1) indicando quais itens estão sendo selecionados para a mochila."
      ],
      "metadata": {
        "id": "X7YlzWM2f5Wh"
      }
    },
    {
      "cell_type": "code",
      "source": [
        "# Função para inicializar um indivíduo aleatório\n",
        "def criar_individuo():\n",
        "    return [random.randint(0, 1) for _ in range(len(pesos))]"
      ],
      "metadata": {
        "id": "Oax08XSjf5nn"
      },
      "execution_count": 5,
      "outputs": []
    },
    {
      "cell_type": "markdown",
      "source": [
        "Essa função calcula a aptidão de um indivíduo, somando os valores dos itens selecionados e verificando se o peso total excede a capacidade da mochila. Se o peso exceder, a aptidão é definida como zero. Caso contrário, a aptidão é igual ao valor total dos itens."
      ],
      "metadata": {
        "id": "bXS0351gf53r"
      }
    },
    {
      "cell_type": "code",
      "source": [
        "# Função para calcular a aptidão de um indivíduo\n",
        "def calcular_aptidao(individuo):\n",
        "    peso_total = sum(peso * bit for peso, bit in zip(pesos, individuo))\n",
        "    valor_total = sum(valor * bit for valor, bit in zip(valores, individuo))\n",
        "    \n",
        "    if peso_total > capacidade_mochila:\n",
        "        return 0,  # Retornar uma tupla para que a aptidão seja um valor único\n",
        "    else:\n",
        "        return valor_total,"
      ],
      "metadata": {
        "id": "g1Ff0zTpf6jQ"
      },
      "execution_count": 6,
      "outputs": []
    },
    {
      "cell_type": "markdown",
      "source": [
        "Aqui, as funções criadas anteriormente são registradas no toolbox, que é uma ferramenta do DEAP que permite o uso dessas funções nos processos do algoritmo genético."
      ],
      "metadata": {
        "id": "vElgBXu_f6-B"
      }
    },
    {
      "cell_type": "code",
      "source": [
        "# Registrar as funções no toolbox\n",
        "toolbox.register(\"individual\", tools.initIterate, creator.Individual, criar_individuo)\n",
        "toolbox.register(\"population\", tools.initRepeat, list, toolbox.individual)\n",
        "toolbox.register(\"evaluate\", calcular_aptidao)\n",
        "toolbox.register(\"mate\", tools.cxTwoPoint)\n",
        "toolbox.register(\"mutate\", tools.mutFlipBit, indpb=0.05)\n",
        "toolbox.register(\"select\", tools.selTournament, tournsize=3)"
      ],
      "metadata": {
        "id": "eWV7JyuOf7YD"
      },
      "execution_count": 7,
      "outputs": []
    },
    {
      "cell_type": "markdown",
      "source": [
        "1. Definir estatísticas para acompanhamento: São definidas as estatísticas que serão monitoradas durante a execução do algoritmo, como a média e o máximo da aptidão da população.\n",
        "\n",
        "2. Executar o algoritmo genético: Neste ponto, o algoritmo genético é executado em um loop de várias gerações. Os operadores genéticos são aplicados à população, a aptidão dos indivíduos é avaliada, uma nova geração é criada e a população é atualizada. As estatísticas são registradas a cada geração.\n",
        "\n",
        "3. Obter o melhor indivíduo da população final: Ao final do loop das gerações, o melhor indivíduo é selecionado com base na sua aptidão e o valor da melhor solução encontrada é calculado.\n",
        "\n",
        "4. Imprimir a solução encontrada: A solução encontrada, representada pelos genes do melhor indivíduo (itens selecionados) e o valor total alcançado, é impressa na tela."
      ],
      "metadata": {
        "id": "54kIzbJ9gcTe"
      }
    },
    {
      "cell_type": "code",
      "source": [
        "def main():\n",
        "    # Inicializar a população\n",
        "    population = toolbox.population(n=50)\n",
        "    \n",
        "    # Definir estatísticas para acompanhamento\n",
        "    stats = tools.Statistics(lambda ind: ind.fitness.values[0])  # Alterado aqui\n",
        "    stats.register(\"média\", lambda x: sum(x) / len(x))\n",
        "    stats.register(\"máximo\", max)\n",
        "    \n",
        "    # Definir o número de gerações\n",
        "    num_geracoes = 100\n",
        "    \n",
        "    # Executar o algoritmo genético\n",
        "    for gen in range(num_geracoes):\n",
        "        # Aplicar operadores genéticos na população\n",
        "        offspring = algorithms.varAnd(population, toolbox, cxpb=0.5, mutpb=0.1)\n",
        "        \n",
        "        # Avaliar a aptidão dos indivíduos da nova geração\n",
        "        fitnesses = toolbox.map(toolbox.evaluate, offspring)\n",
        "        for ind, fit in zip(offspring, fitnesses):\n",
        "            ind.fitness.values = fit\n",
        "        \n",
        "        # Substituir a população antiga pela nova geração\n",
        "        population[:] = offspring\n",
        "        \n",
        "        # Acompanhar as estatísticas a cada geração\n",
        "        record = stats.compile(population)\n",
        "        print(f\"Geração {gen + 1}: {record}\")\n",
        "    \n",
        "    # Obter o melhor indivíduo da população final\n",
        "    best_individuo = tools.selBest(population, k=1)[0]\n",
        "    melhor_valor = calcular_aptidao(best_individuo)[0]\n",
        "    \n",
        "    # Imprimir a solução encontrada\n",
        "    print(\"\\nMelhor indivíduo encontrado:\")\n",
        "    print(f\"   Genes: {best_individuo}\")\n",
        "    print(f\"   Valor: {melhor_valor}\")\n",
        "\n",
        "if __name__ == \"__main__\":\n",
        "    main()\n"
      ],
      "metadata": {
        "colab": {
          "base_uri": "https://localhost:8080/"
        },
        "id": "K1l-SDCSgTNM",
        "outputId": "11889d37-9dec-498a-8fa0-49a8701dabae"
      },
      "execution_count": 8,
      "outputs": [
        {
          "output_type": "stream",
          "name": "stdout",
          "text": [
            "Geração 1: {'média': 34.28, 'máximo': 266.0}\n",
            "Geração 2: {'média': 22.1, 'máximo': 217.0}\n",
            "Geração 3: {'média': 18.2, 'máximo': 217.0}\n",
            "Geração 4: {'média': 25.64, 'máximo': 233.0}\n",
            "Geração 5: {'média': 24.92, 'máximo': 309.0}\n",
            "Geração 6: {'média': 20.42, 'máximo': 309.0}\n",
            "Geração 7: {'média': 18.86, 'máximo': 258.0}\n",
            "Geração 8: {'média': 33.8, 'máximo': 284.0}\n",
            "Geração 9: {'média': 39.4, 'máximo': 309.0}\n",
            "Geração 10: {'média': 44.94, 'máximo': 309.0}\n",
            "Geração 11: {'média': 46.26, 'máximo': 309.0}\n",
            "Geração 12: {'média': 32.3, 'máximo': 309.0}\n",
            "Geração 13: {'média': 35.38, 'máximo': 309.0}\n",
            "Geração 14: {'média': 30.76, 'máximo': 309.0}\n",
            "Geração 15: {'média': 35.08, 'máximo': 269.0}\n",
            "Geração 16: {'média': 29.94, 'máximo': 269.0}\n",
            "Geração 17: {'média': 32.76, 'máximo': 270.0}\n",
            "Geração 18: {'média': 25.82, 'máximo': 269.0}\n",
            "Geração 19: {'média': 36.8, 'máximo': 276.0}\n",
            "Geração 20: {'média': 39.44, 'máximo': 276.0}\n",
            "Geração 21: {'média': 46.34, 'máximo': 276.0}\n",
            "Geração 22: {'média': 29.86, 'máximo': 276.0}\n",
            "Geração 23: {'média': 16.16, 'máximo': 269.0}\n",
            "Geração 24: {'média': 22.32, 'máximo': 269.0}\n",
            "Geração 25: {'média': 14.14, 'máximo': 219.0}\n",
            "Geração 26: {'média': 14.42, 'máximo': 234.0}\n",
            "Geração 27: {'média': 16.24, 'máximo': 234.0}\n",
            "Geração 28: {'média': 20.38, 'máximo': 234.0}\n",
            "Geração 29: {'média': 22.74, 'máximo': 233.0}\n",
            "Geração 30: {'média': 27.22, 'máximo': 244.0}\n",
            "Geração 31: {'média': 34.32, 'máximo': 269.0}\n",
            "Geração 32: {'média': 30.26, 'máximo': 269.0}\n",
            "Geração 33: {'média': 22.08, 'máximo': 234.0}\n",
            "Geração 34: {'média': 16.1, 'máximo': 234.0}\n",
            "Geração 35: {'média': 19.96, 'máximo': 234.0}\n",
            "Geração 36: {'média': 25.36, 'máximo': 234.0}\n",
            "Geração 37: {'média': 25.26, 'máximo': 220.0}\n",
            "Geração 38: {'média': 25.12, 'máximo': 269.0}\n",
            "Geração 39: {'média': 25.74, 'máximo': 269.0}\n",
            "Geração 40: {'média': 28.04, 'máximo': 270.0}\n",
            "Geração 41: {'média': 23.32, 'máximo': 270.0}\n",
            "Geração 42: {'média': 28.04, 'máximo': 270.0}\n",
            "Geração 43: {'média': 24.24, 'máximo': 236.0}\n",
            "Geração 44: {'média': 20.12, 'máximo': 209.0}\n",
            "Geração 45: {'média': 31.24, 'máximo': 219.0}\n",
            "Geração 46: {'média': 17.48, 'máximo': 177.0}\n",
            "Geração 47: {'média': 20.72, 'máximo': 258.0}\n",
            "Geração 48: {'média': 16.8, 'máximo': 258.0}\n",
            "Geração 49: {'média': 20.26, 'máximo': 236.0}\n",
            "Geração 50: {'média': 19.96, 'máximo': 176.0}\n",
            "Geração 51: {'média': 32.08, 'máximo': 252.0}\n",
            "Geração 52: {'média': 16.96, 'máximo': 216.0}\n",
            "Geração 53: {'média': 18.64, 'máximo': 216.0}\n",
            "Geração 54: {'média': 18.02, 'máximo': 208.0}\n",
            "Geração 55: {'média': 32.08, 'máximo': 258.0}\n",
            "Geração 56: {'média': 26.04, 'máximo': 260.0}\n",
            "Geração 57: {'média': 22.88, 'máximo': 260.0}\n",
            "Geração 58: {'média': 15.74, 'máximo': 260.0}\n",
            "Geração 59: {'média': 23.06, 'máximo': 260.0}\n",
            "Geração 60: {'média': 31.34, 'máximo': 270.0}\n",
            "Geração 61: {'média': 38.04, 'máximo': 270.0}\n",
            "Geração 62: {'média': 36.42, 'máximo': 270.0}\n",
            "Geração 63: {'média': 35.1, 'máximo': 270.0}\n",
            "Geração 64: {'média': 39.96, 'máximo': 270.0}\n",
            "Geração 65: {'média': 34.48, 'máximo': 236.0}\n",
            "Geração 66: {'média': 50.56, 'máximo': 270.0}\n",
            "Geração 67: {'média': 46.38, 'máximo': 270.0}\n",
            "Geração 68: {'média': 36.06, 'máximo': 269.0}\n",
            "Geração 69: {'média': 37.82, 'máximo': 269.0}\n",
            "Geração 70: {'média': 36.02, 'máximo': 269.0}\n",
            "Geração 71: {'média': 30.0, 'máximo': 266.0}\n",
            "Geração 72: {'média': 30.4, 'máximo': 270.0}\n",
            "Geração 73: {'média': 20.5, 'máximo': 252.0}\n",
            "Geração 74: {'média': 25.7, 'máximo': 276.0}\n",
            "Geração 75: {'média': 32.96, 'máximo': 276.0}\n",
            "Geração 76: {'média': 34.48, 'máximo': 276.0}\n",
            "Geração 77: {'média': 41.48, 'máximo': 276.0}\n",
            "Geração 78: {'média': 37.52, 'máximo': 277.0}\n",
            "Geração 79: {'média': 33.64, 'máximo': 277.0}\n",
            "Geração 80: {'média': 34.92, 'máximo': 277.0}\n",
            "Geração 81: {'média': 34.28, 'máximo': 269.0}\n",
            "Geração 82: {'média': 27.32, 'máximo': 258.0}\n",
            "Geração 83: {'média': 39.42, 'máximo': 277.0}\n",
            "Geração 84: {'média': 39.76, 'máximo': 277.0}\n",
            "Geração 85: {'média': 43.66, 'máximo': 277.0}\n",
            "Geração 86: {'média': 46.04, 'máximo': 309.0}\n",
            "Geração 87: {'média': 43.22, 'máximo': 309.0}\n",
            "Geração 88: {'média': 37.42, 'máximo': 266.0}\n",
            "Geração 89: {'média': 36.8, 'máximo': 247.0}\n",
            "Geração 90: {'média': 36.46, 'máximo': 247.0}\n",
            "Geração 91: {'média': 32.06, 'máximo': 276.0}\n",
            "Geração 92: {'média': 37.78, 'máximo': 276.0}\n",
            "Geração 93: {'média': 28.3, 'máximo': 227.0}\n",
            "Geração 94: {'média': 26.92, 'máximo': 227.0}\n",
            "Geração 95: {'média': 31.32, 'máximo': 269.0}\n",
            "Geração 96: {'média': 28.62, 'máximo': 227.0}\n",
            "Geração 97: {'média': 24.12, 'máximo': 265.0}\n",
            "Geração 98: {'média': 25.1, 'máximo': 265.0}\n",
            "Geração 99: {'média': 34.3, 'máximo': 265.0}\n",
            "Geração 100: {'média': 31.26, 'máximo': 219.0}\n",
            "\n",
            "Melhor indivíduo encontrado:\n",
            "   Genes: [1, 0, 0, 0, 1, 0, 1, 0, 0, 0]\n",
            "   Valor: 219\n"
          ]
        }
      ]
    },
    {
      "cell_type": "markdown",
      "source": [
        "Algoritmo inteiro:"
      ],
      "metadata": {
        "id": "_vC8_uFhgrUR"
      }
    },
    {
      "cell_type": "code",
      "source": [
        "# import random\n",
        "# from deap import base, creator, tools, algorithms  # Adicionei 'algorithms' aqui\n",
        "\n",
        "\n",
        "# # Definir os parâmetros do problema\n",
        "# pesos = [23, 31, 29, 44, 53, 38, 63, 85, 89, 82]\n",
        "# valores = [92, 57, 49, 68, 60, 43, 67, 84, 87, 72]\n",
        "# capacidade_mochila = 165\n",
        "\n",
        "# # Definir a estrutura do indivíduo e da aptidão\n",
        "# creator.create(\"Fitness\", base.Fitness, weights=(1.0,))\n",
        "# creator.create(\"Individual\", list, fitness=creator.Fitness)\n",
        "\n",
        "# toolbox = base.Toolbox()\n",
        "\n",
        "# # Função para inicializar um indivíduo aleatório\n",
        "# def criar_individuo():\n",
        "#     return [random.randint(0, 1) for _ in range(len(pesos))]\n",
        "\n",
        "# # Função para calcular a aptidão de um indivíduo\n",
        "# def calcular_aptidao(individuo):\n",
        "#     peso_total = sum(peso * bit for peso, bit in zip(pesos, individuo))\n",
        "#     valor_total = sum(valor * bit for valor, bit in zip(valores, individuo))\n",
        "    \n",
        "#     if peso_total > capacidade_mochila:\n",
        "#         return 0,  # Retornar uma tupla para que a aptidão seja um valor único\n",
        "#     else:\n",
        "#         return valor_total,\n",
        "\n",
        "# # Registrar as funções no toolbox\n",
        "# toolbox.register(\"individual\", tools.initIterate, creator.Individual, criar_individuo)\n",
        "# toolbox.register(\"population\", tools.initRepeat, list, toolbox.individual)\n",
        "# toolbox.register(\"evaluate\", calcular_aptidao)\n",
        "# toolbox.register(\"mate\", tools.cxTwoPoint)\n",
        "# toolbox.register(\"mutate\", tools.mutFlipBit, indpb=0.05)\n",
        "# toolbox.register(\"select\", tools.selTournament, tournsize=3)\n",
        "\n",
        "# def main():\n",
        "#     # Inicializar a população\n",
        "#     population = toolbox.population(n=50)\n",
        "    \n",
        "#     # Definir estatísticas para acompanhamento\n",
        "#     stats = tools.Statistics(lambda ind: ind.fitness.values[0])  # Alterado aqui\n",
        "#     stats.register(\"média\", lambda x: sum(x) / len(x))\n",
        "#     stats.register(\"máximo\", max)\n",
        "    \n",
        "#     # Definir o número de gerações\n",
        "#     num_geracoes = 100\n",
        "    \n",
        "#     # Executar o algoritmo genético\n",
        "#     for gen in range(num_geracoes):\n",
        "#         # Aplicar operadores genéticos na população\n",
        "#         offspring = algorithms.varAnd(population, toolbox, cxpb=0.5, mutpb=0.1)\n",
        "        \n",
        "#         # Avaliar a aptidão dos indivíduos da nova geração\n",
        "#         fitnesses = toolbox.map(toolbox.evaluate, offspring)\n",
        "#         for ind, fit in zip(offspring, fitnesses):\n",
        "#             ind.fitness.values = fit\n",
        "        \n",
        "#         # Substituir a população antiga pela nova geração\n",
        "#         population[:] = offspring\n",
        "        \n",
        "#         # Acompanhar as estatísticas a cada geração\n",
        "#         record = stats.compile(population)\n",
        "#         print(f\"Geração {gen + 1}: {record}\")\n",
        "    \n",
        "#     # Obter o melhor indivíduo da população final\n",
        "#     best_individuo = tools.selBest(population, k=1)[0]\n",
        "#     melhor_valor = calcular_aptidao(best_individuo)[0]\n",
        "    \n",
        "#     # Imprimir a solução encontrada\n",
        "#     print(\"\\nMelhor indivíduo encontrado:\")\n",
        "#     print(f\"   Genes: {best_individuo}\")\n",
        "#     print(f\"   Valor: {melhor_valor}\")\n",
        "\n",
        "# if __name__ == \"__main__\":\n",
        "#     main()"
      ],
      "metadata": {
        "id": "SW8tRpB-gTKD"
      },
      "execution_count": 9,
      "outputs": []
    }
  ]
}